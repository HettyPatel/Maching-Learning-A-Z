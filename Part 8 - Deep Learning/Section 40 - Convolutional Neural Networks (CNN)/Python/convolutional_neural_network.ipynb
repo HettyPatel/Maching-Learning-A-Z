{
  "nbformat": 4,
  "nbformat_minor": 2,
  "metadata": {
    "colab": {
      "name": "convolutional_neural_network.ipynb",
      "provenance": [],
      "collapsed_sections": [],
      "toc_visible": true
    },
    "kernelspec": {
      "name": "python3",
      "display_name": "Python 3.8.8 64-bit ('base': conda)"
    },
    "language_info": {
      "name": "python",
      "version": "3.8.8",
      "mimetype": "text/x-python",
      "codemirror_mode": {
        "name": "ipython",
        "version": 3
      },
      "pygments_lexer": "ipython3",
      "nbconvert_exporter": "python",
      "file_extension": ".py"
    },
    "interpreter": {
      "hash": "dca0ade3e726a953b501b15e8e990130d2b7799f14cfd9f4271676035ebe5511"
    }
  },
  "cells": [
    {
      "cell_type": "markdown",
      "source": [
        "# Convolutional Neural Network"
      ],
      "metadata": {
        "id": "3DR-eO17geWu",
        "colab_type": "text"
      }
    },
    {
      "cell_type": "markdown",
      "source": [
        "### Importing the libraries"
      ],
      "metadata": {
        "id": "EMefrVPCg-60",
        "colab_type": "text"
      }
    },
    {
      "cell_type": "code",
      "execution_count": 21,
      "source": [
        "import tensorflow as tf \n",
        "from keras.preprocessing.image import ImageDataGenerator\n",
        "\n",
        "tf.__version__"
      ],
      "outputs": [
        {
          "output_type": "execute_result",
          "data": {
            "text/plain": [
              "'2.6.0'"
            ]
          },
          "metadata": {},
          "execution_count": 21
        }
      ],
      "metadata": {}
    },
    {
      "cell_type": "markdown",
      "source": [
        "## Part 1 - Data Preprocessing"
      ],
      "metadata": {
        "id": "oxQxCBWyoGPE",
        "colab_type": "text"
      }
    },
    {
      "cell_type": "markdown",
      "source": [
        "### Preprocessing the Training set"
      ],
      "metadata": {
        "id": "MvE-heJNo3GG",
        "colab_type": "text"
      }
    },
    {
      "cell_type": "code",
      "execution_count": 22,
      "source": [
        "train_datagen = ImageDataGenerator(\n",
        "    rescale= 1./255, \n",
        "    shear_range=0.2, \n",
        "    zoom_range=0.2, \n",
        "    horizontal_flip=True\n",
        ")\n",
        "training_set  = train_datagen.flow_from_directory(\n",
        "    'dataset/training_set', \n",
        "    target_size=(64,64),\n",
        "    batch_size=32,\n",
        "    class_mode='binary'\n",
        ")"
      ],
      "outputs": [
        {
          "output_type": "stream",
          "name": "stdout",
          "text": [
            "Found 8000 images belonging to 2 classes.\n"
          ]
        }
      ],
      "metadata": {}
    },
    {
      "cell_type": "markdown",
      "source": [
        "### Preprocessing the Test set"
      ],
      "metadata": {
        "id": "mrCMmGw9pHys",
        "colab_type": "text"
      }
    },
    {
      "cell_type": "code",
      "execution_count": 23,
      "source": [
        "test_datagen = ImageDataGenerator(rescale=1./255)\n",
        "test_set = test_datagen.flow_from_directory(\n",
        "    'dataset/test_set', \n",
        "    target_size=(64, 64), \n",
        "    batch_size=32,\n",
        "    class_mode='binary'\n",
        ")\n"
      ],
      "outputs": [
        {
          "output_type": "stream",
          "name": "stdout",
          "text": [
            "Found 2000 images belonging to 2 classes.\n"
          ]
        }
      ],
      "metadata": {}
    },
    {
      "cell_type": "markdown",
      "source": [
        "## Part 2 - Building the CNN"
      ],
      "metadata": {
        "id": "af8O4l90gk7B",
        "colab_type": "text"
      }
    },
    {
      "cell_type": "markdown",
      "source": [
        "### Initialising the CNN"
      ],
      "metadata": {
        "id": "ces1gXY2lmoX",
        "colab_type": "text"
      }
    },
    {
      "cell_type": "code",
      "execution_count": 24,
      "source": [
        "cnn = tf.keras.models.Sequential()"
      ],
      "outputs": [],
      "metadata": {}
    },
    {
      "cell_type": "markdown",
      "source": [
        "### Step 1 - Convolution"
      ],
      "metadata": {
        "id": "u5YJj_XMl5LF",
        "colab_type": "text"
      }
    },
    {
      "cell_type": "code",
      "execution_count": 25,
      "source": [
        "cnn.add(tf.keras.layers.Conv2D(filters= 32, kernel_size= 3, activation='relu', input_shape= [64, 64, 3]))"
      ],
      "outputs": [],
      "metadata": {}
    },
    {
      "cell_type": "markdown",
      "source": [
        "### Step 2 - Pooling"
      ],
      "metadata": {
        "id": "tf87FpvxmNOJ",
        "colab_type": "text"
      }
    },
    {
      "cell_type": "code",
      "execution_count": 26,
      "source": [
        "cnn.add(tf.keras.layers.MaxPool2D(pool_size=2, strides=2 ))"
      ],
      "outputs": [],
      "metadata": {}
    },
    {
      "cell_type": "markdown",
      "source": [
        "### Adding a second convolutional layer"
      ],
      "metadata": {
        "id": "xaTOgD8rm4mU",
        "colab_type": "text"
      }
    },
    {
      "cell_type": "code",
      "execution_count": 27,
      "source": [
        "cnn.add(tf.keras.layers.Conv2D(filters= 32, kernel_size= 3, activation='relu'))\n",
        "cnn.add(tf.keras.layers.MaxPool2D(pool_size=2, strides=2 ))"
      ],
      "outputs": [],
      "metadata": {}
    },
    {
      "cell_type": "markdown",
      "source": [
        "### Step 3 - Flattening"
      ],
      "metadata": {
        "id": "tmiEuvTunKfk",
        "colab_type": "text"
      }
    },
    {
      "cell_type": "code",
      "execution_count": 28,
      "source": [
        "cnn.add(tf.keras.layers.Flatten())\n"
      ],
      "outputs": [],
      "metadata": {}
    },
    {
      "cell_type": "markdown",
      "source": [
        "### Step 4 - Full Connection"
      ],
      "metadata": {
        "id": "dAoSECOm203v",
        "colab_type": "text"
      }
    },
    {
      "cell_type": "code",
      "execution_count": 29,
      "source": [
        "cnn.add(tf.keras.layers.Dense(units=128, activation='relu'))"
      ],
      "outputs": [],
      "metadata": {}
    },
    {
      "cell_type": "markdown",
      "source": [
        "### Step 5 - Output Layer"
      ],
      "metadata": {
        "id": "yTldFvbX28Na",
        "colab_type": "text"
      }
    },
    {
      "cell_type": "code",
      "execution_count": 30,
      "source": [
        "cnn.add(tf.keras.layers.Dense(units=1, activation='sigmoid'))"
      ],
      "outputs": [],
      "metadata": {}
    },
    {
      "cell_type": "markdown",
      "source": [
        "## Part 3 - Training the CNN"
      ],
      "metadata": {
        "id": "D6XkI90snSDl",
        "colab_type": "text"
      }
    },
    {
      "cell_type": "markdown",
      "source": [
        "### Compiling the CNN"
      ],
      "metadata": {
        "id": "vfrFQACEnc6i",
        "colab_type": "text"
      }
    },
    {
      "cell_type": "code",
      "execution_count": 31,
      "source": [
        "cnn.compile(optimizer='adam',  loss=  'binary_crossentropy', metrics=['accuracy'])"
      ],
      "outputs": [],
      "metadata": {}
    },
    {
      "cell_type": "markdown",
      "source": [
        "### Training the CNN on the Training set and evaluating it on the Test set"
      ],
      "metadata": {
        "id": "ehS-v3MIpX2h",
        "colab_type": "text"
      }
    },
    {
      "cell_type": "code",
      "execution_count": 32,
      "source": [
        "cnn.fit(x = training_set, validation_data =  test_set, epochs= 25)"
      ],
      "outputs": [
        {
          "output_type": "stream",
          "name": "stdout",
          "text": [
            "Epoch 1/25\n",
            "250/250 [==============================] - 66s 259ms/step - loss: 0.6646 - accuracy: 0.5925 - val_loss: 0.5880 - val_accuracy: 0.6880\n",
            "Epoch 2/25\n",
            "250/250 [==============================] - 63s 253ms/step - loss: 0.5855 - accuracy: 0.6909 - val_loss: 0.5843 - val_accuracy: 0.6850\n",
            "Epoch 3/25\n",
            "250/250 [==============================] - 65s 260ms/step - loss: 0.5438 - accuracy: 0.7241 - val_loss: 0.5152 - val_accuracy: 0.7490\n",
            "Epoch 4/25\n",
            "250/250 [==============================] - 65s 261ms/step - loss: 0.5114 - accuracy: 0.7449 - val_loss: 0.5170 - val_accuracy: 0.7495\n",
            "Epoch 5/25\n",
            "250/250 [==============================] - 65s 261ms/step - loss: 0.4927 - accuracy: 0.7542 - val_loss: 0.4724 - val_accuracy: 0.7835\n",
            "Epoch 6/25\n",
            "250/250 [==============================] - 63s 252ms/step - loss: 0.4693 - accuracy: 0.7750 - val_loss: 0.5222 - val_accuracy: 0.7555\n",
            "Epoch 7/25\n",
            "250/250 [==============================] - 63s 253ms/step - loss: 0.4518 - accuracy: 0.7869 - val_loss: 0.4966 - val_accuracy: 0.7730\n",
            "Epoch 8/25\n",
            "250/250 [==============================] - 68s 270ms/step - loss: 0.4444 - accuracy: 0.7879 - val_loss: 0.4625 - val_accuracy: 0.7915\n",
            "Epoch 9/25\n",
            "250/250 [==============================] - 62s 248ms/step - loss: 0.4284 - accuracy: 0.8025 - val_loss: 0.5406 - val_accuracy: 0.7485\n",
            "Epoch 10/25\n",
            "250/250 [==============================] - 63s 253ms/step - loss: 0.4245 - accuracy: 0.8080 - val_loss: 0.4781 - val_accuracy: 0.7840\n",
            "Epoch 11/25\n",
            "250/250 [==============================] - 63s 254ms/step - loss: 0.4086 - accuracy: 0.8112 - val_loss: 0.4683 - val_accuracy: 0.7885\n",
            "Epoch 12/25\n",
            "250/250 [==============================] - 61s 242ms/step - loss: 0.3943 - accuracy: 0.8210 - val_loss: 0.4379 - val_accuracy: 0.8055\n",
            "Epoch 13/25\n",
            "250/250 [==============================] - 62s 248ms/step - loss: 0.3804 - accuracy: 0.8284 - val_loss: 0.4658 - val_accuracy: 0.7970\n",
            "Epoch 14/25\n",
            "250/250 [==============================] - 69s 277ms/step - loss: 0.3755 - accuracy: 0.8275 - val_loss: 0.4854 - val_accuracy: 0.7885\n",
            "Epoch 15/25\n",
            "250/250 [==============================] - 64s 255ms/step - loss: 0.3677 - accuracy: 0.8324 - val_loss: 0.4358 - val_accuracy: 0.8060\n",
            "Epoch 16/25\n",
            "250/250 [==============================] - 63s 251ms/step - loss: 0.3515 - accuracy: 0.8405 - val_loss: 0.4493 - val_accuracy: 0.8015\n",
            "Epoch 17/25\n",
            "250/250 [==============================] - 62s 247ms/step - loss: 0.3408 - accuracy: 0.8439 - val_loss: 0.4507 - val_accuracy: 0.8060\n",
            "Epoch 18/25\n",
            "250/250 [==============================] - 61s 242ms/step - loss: 0.3308 - accuracy: 0.8512 - val_loss: 0.4748 - val_accuracy: 0.8170\n",
            "Epoch 19/25\n",
            "250/250 [==============================] - 62s 247ms/step - loss: 0.3162 - accuracy: 0.8611 - val_loss: 0.4406 - val_accuracy: 0.8220\n",
            "Epoch 20/25\n",
            "250/250 [==============================] - 62s 249ms/step - loss: 0.3124 - accuracy: 0.8608 - val_loss: 0.4552 - val_accuracy: 0.8110\n",
            "Epoch 21/25\n",
            "250/250 [==============================] - 58s 230ms/step - loss: 0.3011 - accuracy: 0.8675 - val_loss: 0.4411 - val_accuracy: 0.8100\n",
            "Epoch 22/25\n",
            "250/250 [==============================] - 59s 235ms/step - loss: 0.2974 - accuracy: 0.8715 - val_loss: 0.5141 - val_accuracy: 0.7860\n",
            "Epoch 23/25\n",
            "250/250 [==============================] - 58s 233ms/step - loss: 0.2857 - accuracy: 0.8795 - val_loss: 0.4738 - val_accuracy: 0.8145\n",
            "Epoch 24/25\n",
            "250/250 [==============================] - 55s 221ms/step - loss: 0.2657 - accuracy: 0.8889 - val_loss: 0.4692 - val_accuracy: 0.8145\n",
            "Epoch 25/25\n",
            "250/250 [==============================] - 56s 225ms/step - loss: 0.2601 - accuracy: 0.8896 - val_loss: 0.5371 - val_accuracy: 0.8000\n"
          ]
        },
        {
          "output_type": "execute_result",
          "data": {
            "text/plain": [
              "<keras.callbacks.History at 0x7fd92f6c98b0>"
            ]
          },
          "metadata": {},
          "execution_count": 32
        }
      ],
      "metadata": {}
    },
    {
      "cell_type": "markdown",
      "source": [
        "## Part 4 - Making a single prediction"
      ],
      "metadata": {
        "id": "U3PZasO0006Z",
        "colab_type": "text"
      }
    },
    {
      "cell_type": "code",
      "execution_count": 41,
      "source": [
        "import numpy as np\n",
        "from keras.preprocessing import image\n",
        "\n",
        "test_image = image.load_img('dataset/single_prediction/cat_or_dog_4.jpg', target_size= (64,64))\n",
        "\n",
        "test_image = image.img_to_array(test_image)\n",
        "test_image = np.expand_dims(test_image, axis=0)\n",
        "result = cnn.predict(test_image)\n",
        "test_set.class_indices\n",
        "if result[0][0] == 1:\n",
        "    prediction = 'dog'\n",
        "else:\n",
        "    prediction = 'cat'\n",
        "print(prediction)\n"
      ],
      "outputs": [
        {
          "output_type": "stream",
          "name": "stdout",
          "text": [
            "dog\n"
          ]
        }
      ],
      "metadata": {}
    }
  ]
}