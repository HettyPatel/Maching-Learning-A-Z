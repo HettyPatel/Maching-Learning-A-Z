{
  "cells": [
    {
      "cell_type": "markdown",
      "metadata": {
        "colab_type": "text",
        "id": "3DR-eO17geWu"
      },
      "source": [
        "# Convolutional Neural Network"
      ]
    },
    {
      "cell_type": "markdown",
      "metadata": {
        "colab_type": "text",
        "id": "EMefrVPCg-60"
      },
      "source": [
        "### Importing the libraries"
      ]
    },
    {
      "cell_type": "code",
      "execution_count": 1,
      "metadata": {},
      "outputs": [
        {
          "data": {
            "text/plain": [
              "'2.7.0'"
            ]
          },
          "execution_count": 1,
          "metadata": {},
          "output_type": "execute_result"
        }
      ],
      "source": [
        "import tensorflow as tf \n",
        "from keras.preprocessing.image import ImageDataGenerator\n",
        "\n",
        "tf.__version__"
      ]
    },
    {
      "cell_type": "markdown",
      "metadata": {
        "colab_type": "text",
        "id": "oxQxCBWyoGPE"
      },
      "source": [
        "## Part 1 - Data Preprocessing"
      ]
    },
    {
      "cell_type": "markdown",
      "metadata": {
        "colab_type": "text",
        "id": "MvE-heJNo3GG"
      },
      "source": [
        "### Preprocessing the Training set"
      ]
    },
    {
      "cell_type": "code",
      "execution_count": 2,
      "metadata": {},
      "outputs": [
        {
          "name": "stdout",
          "output_type": "stream",
          "text": [
            "Found 8000 images belonging to 2 classes.\n"
          ]
        }
      ],
      "source": [
        "train_datagen = ImageDataGenerator(\n",
        "    rescale= 1./255, \n",
        "    shear_range=0.2, \n",
        "    zoom_range=0.2, \n",
        "    horizontal_flip=True\n",
        ")\n",
        "training_set  = train_datagen.flow_from_directory(\n",
        "    'dataset/training_set', \n",
        "    target_size=(64,64),\n",
        "    batch_size=32,\n",
        "    class_mode='binary'\n",
        ")"
      ]
    },
    {
      "cell_type": "markdown",
      "metadata": {
        "colab_type": "text",
        "id": "mrCMmGw9pHys"
      },
      "source": [
        "### Preprocessing the Test set"
      ]
    },
    {
      "cell_type": "code",
      "execution_count": 3,
      "metadata": {},
      "outputs": [
        {
          "name": "stdout",
          "output_type": "stream",
          "text": [
            "Found 2000 images belonging to 2 classes.\n"
          ]
        }
      ],
      "source": [
        "test_datagen = ImageDataGenerator(rescale=1./255)\n",
        "test_set = test_datagen.flow_from_directory(\n",
        "    'dataset/test_set', \n",
        "    target_size=(64, 64), \n",
        "    batch_size=32,\n",
        "    class_mode='binary'\n",
        ")\n"
      ]
    },
    {
      "cell_type": "markdown",
      "metadata": {
        "colab_type": "text",
        "id": "af8O4l90gk7B"
      },
      "source": [
        "## Part 2 - Building the CNN"
      ]
    },
    {
      "cell_type": "markdown",
      "metadata": {
        "colab_type": "text",
        "id": "ces1gXY2lmoX"
      },
      "source": [
        "### Initialising the CNN"
      ]
    },
    {
      "cell_type": "code",
      "execution_count": 4,
      "metadata": {},
      "outputs": [],
      "source": [
        "cnn = tf.keras.models.Sequential()"
      ]
    },
    {
      "cell_type": "markdown",
      "metadata": {
        "colab_type": "text",
        "id": "u5YJj_XMl5LF"
      },
      "source": [
        "### Step 1 - Convolution"
      ]
    },
    {
      "cell_type": "code",
      "execution_count": 5,
      "metadata": {},
      "outputs": [],
      "source": [
        "cnn.add(tf.keras.layers.Conv2D(filters= 32, kernel_size= 3, activation='relu', input_shape= [64, 64, 3]))"
      ]
    },
    {
      "cell_type": "markdown",
      "metadata": {
        "colab_type": "text",
        "id": "tf87FpvxmNOJ"
      },
      "source": [
        "### Step 2 - Pooling"
      ]
    },
    {
      "cell_type": "code",
      "execution_count": 6,
      "metadata": {},
      "outputs": [],
      "source": [
        "cnn.add(tf.keras.layers.MaxPool2D(pool_size=2, strides=2 ))"
      ]
    },
    {
      "cell_type": "markdown",
      "metadata": {
        "colab_type": "text",
        "id": "xaTOgD8rm4mU"
      },
      "source": [
        "### Adding a second convolutional layer"
      ]
    },
    {
      "cell_type": "code",
      "execution_count": 7,
      "metadata": {},
      "outputs": [],
      "source": [
        "cnn.add(tf.keras.layers.Conv2D(filters= 32, kernel_size= 3, activation='relu'))\n",
        "cnn.add(tf.keras.layers.MaxPool2D(pool_size=2, strides=2 ))"
      ]
    },
    {
      "cell_type": "markdown",
      "metadata": {
        "colab_type": "text",
        "id": "tmiEuvTunKfk"
      },
      "source": [
        "### Step 3 - Flattening"
      ]
    },
    {
      "cell_type": "code",
      "execution_count": 8,
      "metadata": {},
      "outputs": [],
      "source": [
        "cnn.add(tf.keras.layers.Flatten())\n"
      ]
    },
    {
      "cell_type": "markdown",
      "metadata": {
        "colab_type": "text",
        "id": "dAoSECOm203v"
      },
      "source": [
        "### Step 4 - Full Connection"
      ]
    },
    {
      "cell_type": "code",
      "execution_count": 9,
      "metadata": {},
      "outputs": [],
      "source": [
        "cnn.add(tf.keras.layers.Dense(units=128, activation='relu'))"
      ]
    },
    {
      "cell_type": "markdown",
      "metadata": {
        "colab_type": "text",
        "id": "yTldFvbX28Na"
      },
      "source": [
        "### Step 5 - Output Layer"
      ]
    },
    {
      "cell_type": "code",
      "execution_count": 10,
      "metadata": {},
      "outputs": [],
      "source": [
        "cnn.add(tf.keras.layers.Dense(units=1, activation='sigmoid'))"
      ]
    },
    {
      "cell_type": "markdown",
      "metadata": {
        "colab_type": "text",
        "id": "D6XkI90snSDl"
      },
      "source": [
        "## Part 3 - Training the CNN"
      ]
    },
    {
      "cell_type": "markdown",
      "metadata": {
        "colab_type": "text",
        "id": "vfrFQACEnc6i"
      },
      "source": [
        "### Compiling the CNN"
      ]
    },
    {
      "cell_type": "code",
      "execution_count": 11,
      "metadata": {},
      "outputs": [],
      "source": [
        "cnn.compile(optimizer='adam',  loss=  'binary_crossentropy', metrics=['accuracy'])"
      ]
    },
    {
      "cell_type": "markdown",
      "metadata": {
        "colab_type": "text",
        "id": "ehS-v3MIpX2h"
      },
      "source": [
        "### Training the CNN on the Training set and evaluating it on the Test set"
      ]
    },
    {
      "cell_type": "code",
      "execution_count": 12,
      "metadata": {},
      "outputs": [
        {
          "name": "stdout",
          "output_type": "stream",
          "text": [
            "Epoch 1/25\n",
            "250/250 [==============================] - 15s 60ms/step - loss: 0.6800 - accuracy: 0.5730 - val_loss: 0.6309 - val_accuracy: 0.6600\n",
            "Epoch 2/25\n",
            "250/250 [==============================] - 15s 59ms/step - loss: 0.6310 - accuracy: 0.6499 - val_loss: 0.5977 - val_accuracy: 0.6995\n",
            "Epoch 3/25\n",
            "250/250 [==============================] - 15s 60ms/step - loss: 0.5879 - accuracy: 0.6881 - val_loss: 0.5653 - val_accuracy: 0.7215\n",
            "Epoch 4/25\n",
            "250/250 [==============================] - 15s 61ms/step - loss: 0.5512 - accuracy: 0.7214 - val_loss: 0.5519 - val_accuracy: 0.7130\n",
            "Epoch 5/25\n",
            "250/250 [==============================] - 15s 62ms/step - loss: 0.5188 - accuracy: 0.7386 - val_loss: 0.5613 - val_accuracy: 0.7215\n",
            "Epoch 6/25\n",
            "250/250 [==============================] - 15s 62ms/step - loss: 0.4994 - accuracy: 0.7541 - val_loss: 0.4937 - val_accuracy: 0.7590\n",
            "Epoch 7/25\n",
            "250/250 [==============================] - 15s 61ms/step - loss: 0.4819 - accuracy: 0.7667 - val_loss: 0.4827 - val_accuracy: 0.7570\n",
            "Epoch 8/25\n",
            "250/250 [==============================] - 16s 64ms/step - loss: 0.4628 - accuracy: 0.7768 - val_loss: 0.4827 - val_accuracy: 0.7565\n",
            "Epoch 9/25\n",
            "250/250 [==============================] - 15s 62ms/step - loss: 0.4506 - accuracy: 0.7890 - val_loss: 0.5076 - val_accuracy: 0.7470\n",
            "Epoch 10/25\n",
            "250/250 [==============================] - 15s 61ms/step - loss: 0.4373 - accuracy: 0.7954 - val_loss: 0.4785 - val_accuracy: 0.7635\n",
            "Epoch 11/25\n",
            "250/250 [==============================] - 15s 61ms/step - loss: 0.4230 - accuracy: 0.8019 - val_loss: 0.4729 - val_accuracy: 0.7715\n",
            "Epoch 12/25\n",
            "250/250 [==============================] - 16s 63ms/step - loss: 0.4123 - accuracy: 0.8106 - val_loss: 0.4501 - val_accuracy: 0.7970\n",
            "Epoch 13/25\n",
            "250/250 [==============================] - 15s 61ms/step - loss: 0.3986 - accuracy: 0.8142 - val_loss: 0.4874 - val_accuracy: 0.7875\n",
            "Epoch 14/25\n",
            "250/250 [==============================] - 15s 60ms/step - loss: 0.3949 - accuracy: 0.8184 - val_loss: 0.4584 - val_accuracy: 0.7785\n",
            "Epoch 15/25\n",
            "250/250 [==============================] - 15s 61ms/step - loss: 0.3798 - accuracy: 0.8229 - val_loss: 0.4425 - val_accuracy: 0.8080\n",
            "Epoch 16/25\n",
            "250/250 [==============================] - 15s 59ms/step - loss: 0.3680 - accuracy: 0.8325 - val_loss: 0.4423 - val_accuracy: 0.7970\n",
            "Epoch 17/25\n",
            "250/250 [==============================] - 15s 60ms/step - loss: 0.3603 - accuracy: 0.8361 - val_loss: 0.4658 - val_accuracy: 0.8070\n",
            "Epoch 18/25\n",
            "250/250 [==============================] - 15s 62ms/step - loss: 0.3460 - accuracy: 0.8466 - val_loss: 0.4474 - val_accuracy: 0.8125\n",
            "Epoch 19/25\n",
            "250/250 [==============================] - 15s 58ms/step - loss: 0.3455 - accuracy: 0.8476 - val_loss: 0.4642 - val_accuracy: 0.8025\n",
            "Epoch 20/25\n",
            "250/250 [==============================] - 15s 59ms/step - loss: 0.3289 - accuracy: 0.8554 - val_loss: 0.4686 - val_accuracy: 0.8020\n",
            "Epoch 21/25\n",
            "250/250 [==============================] - 15s 58ms/step - loss: 0.3239 - accuracy: 0.8583 - val_loss: 0.4987 - val_accuracy: 0.7725\n",
            "Epoch 22/25\n",
            "250/250 [==============================] - 15s 59ms/step - loss: 0.3067 - accuracy: 0.8685 - val_loss: 0.4762 - val_accuracy: 0.8015\n",
            "Epoch 23/25\n",
            "250/250 [==============================] - 15s 58ms/step - loss: 0.3022 - accuracy: 0.8684 - val_loss: 0.4369 - val_accuracy: 0.8150\n",
            "Epoch 24/25\n",
            "250/250 [==============================] - 15s 59ms/step - loss: 0.2803 - accuracy: 0.8794 - val_loss: 0.4802 - val_accuracy: 0.8070\n",
            "Epoch 25/25\n",
            "250/250 [==============================] - 16s 63ms/step - loss: 0.2728 - accuracy: 0.8832 - val_loss: 0.4436 - val_accuracy: 0.8100\n"
          ]
        },
        {
          "data": {
            "text/plain": [
              "<keras.callbacks.History at 0x26f7cb6ae80>"
            ]
          },
          "execution_count": 12,
          "metadata": {},
          "output_type": "execute_result"
        }
      ],
      "source": [
        "cnn.fit(x = training_set, validation_data =  test_set, epochs= 25)"
      ]
    },
    {
      "cell_type": "markdown",
      "metadata": {
        "colab_type": "text",
        "id": "U3PZasO0006Z"
      },
      "source": [
        "## Part 4 - Making a single prediction"
      ]
    },
    {
      "cell_type": "code",
      "execution_count": 17,
      "metadata": {},
      "outputs": [
        {
          "name": "stdout",
          "output_type": "stream",
          "text": [
            "dog\n"
          ]
        }
      ],
      "source": [
        "import numpy as np\n",
        "from keras.preprocessing import image\n",
        "\n",
        "test_image = image.load_img('dataset/single_prediction/cat_or_dog_3.jpg', target_size= (64,64))\n",
        "\n",
        "test_image = image.img_to_array(test_image)\n",
        "test_image = np.expand_dims(test_image, axis=0)\n",
        "result = cnn.predict(test_image)\n",
        "test_set.class_indices\n",
        "if result[0][0] == 1:\n",
        "    prediction = 'dog'\n",
        "else:\n",
        "    prediction = 'cat'\n",
        "print(prediction)\n"
      ]
    }
  ],
  "metadata": {
    "colab": {
      "collapsed_sections": [],
      "name": "convolutional_neural_network.ipynb",
      "provenance": [],
      "toc_visible": true
    },
    "interpreter": {
      "hash": "aba1b76a6b797994a4409ad418e0b69e7c3fa65f838caebb1c2fbcc4eda63717"
    },
    "kernelspec": {
      "display_name": "Python 3.9.0 64-bit",
      "name": "python3"
    },
    "language_info": {
      "codemirror_mode": {
        "name": "ipython",
        "version": 3
      },
      "file_extension": ".py",
      "mimetype": "text/x-python",
      "name": "python",
      "nbconvert_exporter": "python",
      "pygments_lexer": "ipython3",
      "version": "3.9.7"
    }
  },
  "nbformat": 4,
  "nbformat_minor": 2
}
