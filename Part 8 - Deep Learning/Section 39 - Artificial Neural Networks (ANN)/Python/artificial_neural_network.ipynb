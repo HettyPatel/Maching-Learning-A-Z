{
  "nbformat": 4,
  "nbformat_minor": 2,
  "metadata": {
    "colab": {
      "name": "artificial_neural_network.ipynb",
      "provenance": [],
      "collapsed_sections": [],
      "toc_visible": true
    },
    "kernelspec": {
      "name": "python3",
      "display_name": "Python 3.8.8 64-bit ('base': conda)"
    },
    "language_info": {
      "name": "python",
      "version": "3.8.8",
      "mimetype": "text/x-python",
      "codemirror_mode": {
        "name": "ipython",
        "version": 3
      },
      "pygments_lexer": "ipython3",
      "nbconvert_exporter": "python",
      "file_extension": ".py"
    },
    "interpreter": {
      "hash": "dca0ade3e726a953b501b15e8e990130d2b7799f14cfd9f4271676035ebe5511"
    }
  },
  "cells": [
    {
      "cell_type": "markdown",
      "source": [
        "# Artificial Neural Network"
      ],
      "metadata": {
        "id": "lP6JLo1tGNBg",
        "colab_type": "text"
      }
    },
    {
      "cell_type": "markdown",
      "source": [
        "### Importing the libraries"
      ],
      "metadata": {
        "id": "gWZyYmS_UE_L",
        "colab_type": "text"
      }
    },
    {
      "cell_type": "code",
      "execution_count": 38,
      "source": [
        "import numpy as np\n",
        "import pandas as pd\n",
        "import tensorflow as tf "
      ],
      "outputs": [],
      "metadata": {}
    },
    {
      "cell_type": "code",
      "execution_count": 39,
      "source": [
        "tf.__version__"
      ],
      "outputs": [
        {
          "output_type": "execute_result",
          "data": {
            "text/plain": [
              "'2.6.0'"
            ]
          },
          "metadata": {},
          "execution_count": 39
        }
      ],
      "metadata": {}
    },
    {
      "cell_type": "markdown",
      "source": [
        "## Part 1 - Data Preprocessing"
      ],
      "metadata": {
        "id": "1E0Q3aoKUCRX",
        "colab_type": "text"
      }
    },
    {
      "cell_type": "markdown",
      "source": [
        "### Importing the dataset"
      ],
      "metadata": {
        "id": "cKWAkFVGUU0Z",
        "colab_type": "text"
      }
    },
    {
      "cell_type": "code",
      "execution_count": 40,
      "source": [
        "dataset = pd.read_csv(\"Churn_Modelling.csv\")\n",
        "X = dataset.iloc[:,3:-1].values\n",
        "y = dataset.iloc[:,-1].values\n"
      ],
      "outputs": [],
      "metadata": {}
    },
    {
      "cell_type": "code",
      "execution_count": 41,
      "source": [
        "X"
      ],
      "outputs": [
        {
          "output_type": "execute_result",
          "data": {
            "text/plain": [
              "array([[619, 'France', 'Female', ..., 1, 1, 101348.88],\n",
              "       [608, 'Spain', 'Female', ..., 0, 1, 112542.58],\n",
              "       [502, 'France', 'Female', ..., 1, 0, 113931.57],\n",
              "       ...,\n",
              "       [709, 'France', 'Female', ..., 0, 1, 42085.58],\n",
              "       [772, 'Germany', 'Male', ..., 1, 0, 92888.52],\n",
              "       [792, 'France', 'Female', ..., 1, 0, 38190.78]], dtype=object)"
            ]
          },
          "metadata": {},
          "execution_count": 41
        }
      ],
      "metadata": {}
    },
    {
      "cell_type": "markdown",
      "source": [
        "### Encoding categorical data"
      ],
      "metadata": {
        "id": "N6bQ0UgSU-NJ",
        "colab_type": "text"
      }
    },
    {
      "cell_type": "markdown",
      "source": [
        "Label Encoding the \"Gender\" column"
      ],
      "metadata": {
        "id": "le5MJreAbW52",
        "colab_type": "text"
      }
    },
    {
      "cell_type": "code",
      "execution_count": 42,
      "source": [
        "from sklearn.preprocessing import LabelEncoder\n",
        "le = LabelEncoder()\n",
        "X[:,2] = le.fit_transform(X[:, 2])\n",
        "\n"
      ],
      "outputs": [],
      "metadata": {}
    },
    {
      "cell_type": "code",
      "execution_count": 43,
      "source": [
        "X"
      ],
      "outputs": [
        {
          "output_type": "execute_result",
          "data": {
            "text/plain": [
              "array([[619, 'France', 0, ..., 1, 1, 101348.88],\n",
              "       [608, 'Spain', 0, ..., 0, 1, 112542.58],\n",
              "       [502, 'France', 0, ..., 1, 0, 113931.57],\n",
              "       ...,\n",
              "       [709, 'France', 0, ..., 0, 1, 42085.58],\n",
              "       [772, 'Germany', 1, ..., 1, 0, 92888.52],\n",
              "       [792, 'France', 0, ..., 1, 0, 38190.78]], dtype=object)"
            ]
          },
          "metadata": {},
          "execution_count": 43
        }
      ],
      "metadata": {}
    },
    {
      "cell_type": "markdown",
      "source": [
        "One Hot Encoding the \"Geography\" column"
      ],
      "metadata": {
        "id": "CUxGZezpbMcb",
        "colab_type": "text"
      }
    },
    {
      "cell_type": "code",
      "execution_count": 44,
      "source": [
        "from sklearn.compose import ColumnTransformer\n",
        "from sklearn.preprocessing import OneHotEncoder\n",
        "\n",
        "ct = ColumnTransformer(transformers=[('encoder', OneHotEncoder(), [1])], remainder= 'passthrough')\n",
        "X = np.array(ct.fit_transform(X))\n",
        "\n"
      ],
      "outputs": [],
      "metadata": {}
    },
    {
      "cell_type": "code",
      "execution_count": 45,
      "source": [
        "X"
      ],
      "outputs": [
        {
          "output_type": "execute_result",
          "data": {
            "text/plain": [
              "array([[1.0, 0.0, 0.0, ..., 1, 1, 101348.88],\n",
              "       [0.0, 0.0, 1.0, ..., 0, 1, 112542.58],\n",
              "       [1.0, 0.0, 0.0, ..., 1, 0, 113931.57],\n",
              "       ...,\n",
              "       [1.0, 0.0, 0.0, ..., 0, 1, 42085.58],\n",
              "       [0.0, 1.0, 0.0, ..., 1, 0, 92888.52],\n",
              "       [1.0, 0.0, 0.0, ..., 1, 0, 38190.78]], dtype=object)"
            ]
          },
          "metadata": {},
          "execution_count": 45
        }
      ],
      "metadata": {}
    },
    {
      "cell_type": "markdown",
      "source": [
        "### Splitting the dataset into the Training set and Test set"
      ],
      "metadata": {
        "id": "vHol938cW8zd",
        "colab_type": "text"
      }
    },
    {
      "cell_type": "code",
      "execution_count": 46,
      "source": [
        "from sklearn.model_selection import train_test_split\n",
        "X_train, X_test, y_train, y_test  = train_test_split(X, y, test_size=0.2, random_state=1)\n"
      ],
      "outputs": [],
      "metadata": {}
    },
    {
      "cell_type": "markdown",
      "source": [
        "### Feature Scaling"
      ],
      "metadata": {
        "id": "RE_FcHyfV3TQ",
        "colab_type": "text"
      }
    },
    {
      "cell_type": "code",
      "execution_count": 47,
      "source": [
        "from sklearn.preprocessing import StandardScaler\n",
        "sc = StandardScaler()\n",
        "X_train = sc.fit_transform(X_train)\n",
        "X_test = sc.transform(X_test)"
      ],
      "outputs": [],
      "metadata": {}
    },
    {
      "cell_type": "markdown",
      "source": [
        "## Part 2 - Building the ANN"
      ],
      "metadata": {
        "id": "-zfEzkRVXIwF",
        "colab_type": "text"
      }
    },
    {
      "cell_type": "markdown",
      "source": [
        "### Initializing the ANN"
      ],
      "metadata": {
        "id": "KvdeScabXtlB",
        "colab_type": "text"
      }
    },
    {
      "cell_type": "code",
      "execution_count": 48,
      "source": [
        "ann = tf.keras.models.Sequential()\n"
      ],
      "outputs": [],
      "metadata": {}
    },
    {
      "cell_type": "markdown",
      "source": [
        "### Adding the input layer and the first hidden layer"
      ],
      "metadata": {
        "id": "rP6urV6SX7kS",
        "colab_type": "text"
      }
    },
    {
      "cell_type": "code",
      "execution_count": 49,
      "source": [
        "ann.add(tf.keras.layers.Dense(units=6, activation='relu'))\n",
        "\n"
      ],
      "outputs": [],
      "metadata": {}
    },
    {
      "cell_type": "markdown",
      "source": [
        "### Adding the second hidden layer"
      ],
      "metadata": {
        "id": "BELWAc_8YJze",
        "colab_type": "text"
      }
    },
    {
      "cell_type": "code",
      "execution_count": 50,
      "source": [
        "ann.add(tf.keras.layers.Dense(units=6, activation='relu'))\n"
      ],
      "outputs": [],
      "metadata": {}
    },
    {
      "cell_type": "markdown",
      "source": [
        "### Adding the output layer"
      ],
      "metadata": {
        "id": "OyNEe6RXYcU4",
        "colab_type": "text"
      }
    },
    {
      "cell_type": "code",
      "execution_count": 51,
      "source": [
        "ann.add(tf.keras.layers.Dense(units=1, activation='sigmoid'))\n",
        "\n"
      ],
      "outputs": [],
      "metadata": {}
    },
    {
      "cell_type": "markdown",
      "source": [
        "## Part 3 - Training the ANN"
      ],
      "metadata": {
        "id": "JT4u2S1_Y4WG",
        "colab_type": "text"
      }
    },
    {
      "cell_type": "markdown",
      "source": [
        "### Compiling the ANN"
      ],
      "metadata": {
        "id": "8GWlJChhY_ZI",
        "colab_type": "text"
      }
    },
    {
      "cell_type": "code",
      "execution_count": 52,
      "source": [
        "ann.compile(optimizer = 'adam', loss = 'binary_crossentropy', metrics = ['accuracy'])"
      ],
      "outputs": [],
      "metadata": {}
    },
    {
      "cell_type": "markdown",
      "source": [
        "### Training the ANN on the Training set"
      ],
      "metadata": {
        "id": "0QR_G5u7ZLSM",
        "colab_type": "text"
      }
    },
    {
      "cell_type": "code",
      "execution_count": 53,
      "source": [
        "ann.fit(X_train,  y_train, batch_size = 32, epochs = 100)"
      ],
      "outputs": [
        {
          "output_type": "stream",
          "name": "stdout",
          "text": [
            "Epoch 1/100\n",
            "250/250 [==============================] - 1s 872us/step - loss: 0.6368 - accuracy: 0.6612\n",
            "Epoch 2/100\n",
            "250/250 [==============================] - 0s 822us/step - loss: 0.4929 - accuracy: 0.7985\n",
            "Epoch 3/100\n",
            "250/250 [==============================] - 0s 890us/step - loss: 0.4552 - accuracy: 0.8034\n",
            "Epoch 4/100\n",
            "250/250 [==============================] - 0s 835us/step - loss: 0.4355 - accuracy: 0.8115\n",
            "Epoch 5/100\n",
            "250/250 [==============================] - 0s 887us/step - loss: 0.4238 - accuracy: 0.8127\n",
            "Epoch 6/100\n",
            "250/250 [==============================] - 0s 2ms/step - loss: 0.4152 - accuracy: 0.8176\n",
            "Epoch 7/100\n",
            "250/250 [==============================] - 1s 3ms/step - loss: 0.4079 - accuracy: 0.8209\n",
            "Epoch 8/100\n",
            "250/250 [==============================] - 0s 2ms/step - loss: 0.4007 - accuracy: 0.8273\n",
            "Epoch 9/100\n",
            "250/250 [==============================] - 1s 3ms/step - loss: 0.3923 - accuracy: 0.8324\n",
            "Epoch 10/100\n",
            "250/250 [==============================] - 1s 3ms/step - loss: 0.3826 - accuracy: 0.8385\n",
            "Epoch 11/100\n",
            "250/250 [==============================] - 1s 2ms/step - loss: 0.3735 - accuracy: 0.8445\n",
            "Epoch 12/100\n",
            "250/250 [==============================] - 0s 2ms/step - loss: 0.3666 - accuracy: 0.8487\n",
            "Epoch 13/100\n",
            "250/250 [==============================] - 1s 2ms/step - loss: 0.3617 - accuracy: 0.8501\n",
            "Epoch 14/100\n",
            "250/250 [==============================] - 1s 2ms/step - loss: 0.3587 - accuracy: 0.8491\n",
            "Epoch 15/100\n",
            "250/250 [==============================] - 1s 2ms/step - loss: 0.3557 - accuracy: 0.8524\n",
            "Epoch 16/100\n",
            "250/250 [==============================] - 1s 2ms/step - loss: 0.3531 - accuracy: 0.8524\n",
            "Epoch 17/100\n",
            "250/250 [==============================] - 0s 2ms/step - loss: 0.3512 - accuracy: 0.8536\n",
            "Epoch 18/100\n",
            "250/250 [==============================] - 0s 2ms/step - loss: 0.3498 - accuracy: 0.8550\n",
            "Epoch 19/100\n",
            "250/250 [==============================] - 1s 2ms/step - loss: 0.3487 - accuracy: 0.8562\n",
            "Epoch 20/100\n",
            "250/250 [==============================] - 0s 2ms/step - loss: 0.3476 - accuracy: 0.8559\n",
            "Epoch 21/100\n",
            "250/250 [==============================] - 1s 2ms/step - loss: 0.3466 - accuracy: 0.8576\n",
            "Epoch 22/100\n",
            "250/250 [==============================] - 0s 2ms/step - loss: 0.3463 - accuracy: 0.8570\n",
            "Epoch 23/100\n",
            "250/250 [==============================] - 1s 2ms/step - loss: 0.3452 - accuracy: 0.8570\n",
            "Epoch 24/100\n",
            "250/250 [==============================] - 0s 2ms/step - loss: 0.3446 - accuracy: 0.8594\n",
            "Epoch 25/100\n",
            "250/250 [==============================] - 0s 2ms/step - loss: 0.3437 - accuracy: 0.8600\n",
            "Epoch 26/100\n",
            "250/250 [==============================] - 0s 2ms/step - loss: 0.3436 - accuracy: 0.8595\n",
            "Epoch 27/100\n",
            "250/250 [==============================] - 0s 2ms/step - loss: 0.3424 - accuracy: 0.8610\n",
            "Epoch 28/100\n",
            "250/250 [==============================] - 0s 2ms/step - loss: 0.3423 - accuracy: 0.8605\n",
            "Epoch 29/100\n",
            "250/250 [==============================] - 0s 2ms/step - loss: 0.3417 - accuracy: 0.8604\n",
            "Epoch 30/100\n",
            "250/250 [==============================] - 1s 2ms/step - loss: 0.3419 - accuracy: 0.8612\n",
            "Epoch 31/100\n",
            "250/250 [==============================] - 0s 2ms/step - loss: 0.3413 - accuracy: 0.8622\n",
            "Epoch 32/100\n",
            "250/250 [==============================] - 0s 2ms/step - loss: 0.3410 - accuracy: 0.8621\n",
            "Epoch 33/100\n",
            "250/250 [==============================] - 1s 3ms/step - loss: 0.3406 - accuracy: 0.8631\n",
            "Epoch 34/100\n",
            "250/250 [==============================] - 0s 2ms/step - loss: 0.3407 - accuracy: 0.8627\n",
            "Epoch 35/100\n",
            "250/250 [==============================] - 0s 2ms/step - loss: 0.3404 - accuracy: 0.8629\n",
            "Epoch 36/100\n",
            "250/250 [==============================] - 0s 2ms/step - loss: 0.3401 - accuracy: 0.8631\n",
            "Epoch 37/100\n",
            "250/250 [==============================] - 0s 2ms/step - loss: 0.3395 - accuracy: 0.8629\n",
            "Epoch 38/100\n",
            "250/250 [==============================] - 0s 2ms/step - loss: 0.3391 - accuracy: 0.8618\n",
            "Epoch 39/100\n",
            "250/250 [==============================] - 0s 2ms/step - loss: 0.3392 - accuracy: 0.8640\n",
            "Epoch 40/100\n",
            "250/250 [==============================] - 0s 2ms/step - loss: 0.3391 - accuracy: 0.8651\n",
            "Epoch 41/100\n",
            "250/250 [==============================] - 0s 2ms/step - loss: 0.3384 - accuracy: 0.8636\n",
            "Epoch 42/100\n",
            "250/250 [==============================] - 0s 2ms/step - loss: 0.3388 - accuracy: 0.8639\n",
            "Epoch 43/100\n",
            "250/250 [==============================] - 0s 2ms/step - loss: 0.3386 - accuracy: 0.8637\n",
            "Epoch 44/100\n",
            "250/250 [==============================] - 0s 2ms/step - loss: 0.3380 - accuracy: 0.8645\n",
            "Epoch 45/100\n",
            "250/250 [==============================] - 0s 2ms/step - loss: 0.3380 - accuracy: 0.8644\n",
            "Epoch 46/100\n",
            "250/250 [==============================] - 0s 2ms/step - loss: 0.3379 - accuracy: 0.8641\n",
            "Epoch 47/100\n",
            "250/250 [==============================] - 0s 2ms/step - loss: 0.3377 - accuracy: 0.8651\n",
            "Epoch 48/100\n",
            "250/250 [==============================] - 0s 2ms/step - loss: 0.3379 - accuracy: 0.8637\n",
            "Epoch 49/100\n",
            "250/250 [==============================] - 0s 2ms/step - loss: 0.3376 - accuracy: 0.8648\n",
            "Epoch 50/100\n",
            "250/250 [==============================] - 0s 2ms/step - loss: 0.3371 - accuracy: 0.8652\n",
            "Epoch 51/100\n",
            "250/250 [==============================] - 0s 2ms/step - loss: 0.3376 - accuracy: 0.8656\n",
            "Epoch 52/100\n",
            "250/250 [==============================] - 0s 2ms/step - loss: 0.3373 - accuracy: 0.8640\n",
            "Epoch 53/100\n",
            "250/250 [==============================] - 0s 2ms/step - loss: 0.3369 - accuracy: 0.8645\n",
            "Epoch 54/100\n",
            "250/250 [==============================] - 0s 2ms/step - loss: 0.3366 - accuracy: 0.8645\n",
            "Epoch 55/100\n",
            "250/250 [==============================] - 0s 2ms/step - loss: 0.3368 - accuracy: 0.8648\n",
            "Epoch 56/100\n",
            "250/250 [==============================] - 0s 2ms/step - loss: 0.3366 - accuracy: 0.8635\n",
            "Epoch 57/100\n",
            "250/250 [==============================] - 0s 2ms/step - loss: 0.3362 - accuracy: 0.8645\n",
            "Epoch 58/100\n",
            "250/250 [==============================] - 0s 2ms/step - loss: 0.3363 - accuracy: 0.8629\n",
            "Epoch 59/100\n",
            "250/250 [==============================] - 0s 2ms/step - loss: 0.3363 - accuracy: 0.8644\n",
            "Epoch 60/100\n",
            "250/250 [==============================] - 1s 2ms/step - loss: 0.3359 - accuracy: 0.8660\n",
            "Epoch 61/100\n",
            "250/250 [==============================] - 0s 2ms/step - loss: 0.3362 - accuracy: 0.8646\n",
            "Epoch 62/100\n",
            "250/250 [==============================] - 0s 2ms/step - loss: 0.3353 - accuracy: 0.8645\n",
            "Epoch 63/100\n",
            "250/250 [==============================] - 0s 2ms/step - loss: 0.3360 - accuracy: 0.8655\n",
            "Epoch 64/100\n",
            "250/250 [==============================] - 0s 2ms/step - loss: 0.3356 - accuracy: 0.8639\n",
            "Epoch 65/100\n",
            "250/250 [==============================] - 0s 2ms/step - loss: 0.3351 - accuracy: 0.8643\n",
            "Epoch 66/100\n",
            "250/250 [==============================] - 0s 2ms/step - loss: 0.3352 - accuracy: 0.8635\n",
            "Epoch 67/100\n",
            "250/250 [==============================] - 0s 2ms/step - loss: 0.3357 - accuracy: 0.8630\n",
            "Epoch 68/100\n",
            "250/250 [==============================] - 0s 2ms/step - loss: 0.3356 - accuracy: 0.8636\n",
            "Epoch 69/100\n",
            "250/250 [==============================] - 1s 3ms/step - loss: 0.3354 - accuracy: 0.8643\n",
            "Epoch 70/100\n",
            "250/250 [==============================] - 1s 2ms/step - loss: 0.3350 - accuracy: 0.8631\n",
            "Epoch 71/100\n",
            "250/250 [==============================] - 1s 3ms/step - loss: 0.3349 - accuracy: 0.8644\n",
            "Epoch 72/100\n",
            "250/250 [==============================] - 0s 2ms/step - loss: 0.3350 - accuracy: 0.8662\n",
            "Epoch 73/100\n",
            "250/250 [==============================] - 1s 2ms/step - loss: 0.3345 - accuracy: 0.8651\n",
            "Epoch 74/100\n",
            "250/250 [==============================] - 0s 1ms/step - loss: 0.3350 - accuracy: 0.8631\n",
            "Epoch 75/100\n",
            "250/250 [==============================] - 0s 941us/step - loss: 0.3347 - accuracy: 0.8644\n",
            "Epoch 76/100\n",
            "250/250 [==============================] - 0s 862us/step - loss: 0.3342 - accuracy: 0.8639\n",
            "Epoch 77/100\n",
            "250/250 [==============================] - 0s 1ms/step - loss: 0.3343 - accuracy: 0.8643\n",
            "Epoch 78/100\n",
            "250/250 [==============================] - 0s 1ms/step - loss: 0.3345 - accuracy: 0.8659\n",
            "Epoch 79/100\n",
            "250/250 [==============================] - 0s 995us/step - loss: 0.3344 - accuracy: 0.8646\n",
            "Epoch 80/100\n",
            "250/250 [==============================] - 0s 888us/step - loss: 0.3342 - accuracy: 0.8655\n",
            "Epoch 81/100\n",
            "250/250 [==============================] - 0s 888us/step - loss: 0.3341 - accuracy: 0.8646\n",
            "Epoch 82/100\n",
            "250/250 [==============================] - 0s 873us/step - loss: 0.3336 - accuracy: 0.8659\n",
            "Epoch 83/100\n",
            "250/250 [==============================] - 0s 1ms/step - loss: 0.3340 - accuracy: 0.8639\n",
            "Epoch 84/100\n",
            "250/250 [==============================] - 0s 1ms/step - loss: 0.3338 - accuracy: 0.8646\n",
            "Epoch 85/100\n",
            "250/250 [==============================] - 0s 2ms/step - loss: 0.3338 - accuracy: 0.8626\n",
            "Epoch 86/100\n",
            "250/250 [==============================] - 0s 2ms/step - loss: 0.3339 - accuracy: 0.8648\n",
            "Epoch 87/100\n",
            "250/250 [==============================] - 0s 1ms/step - loss: 0.3334 - accuracy: 0.8656\n",
            "Epoch 88/100\n",
            "250/250 [==============================] - 0s 1ms/step - loss: 0.3333 - accuracy: 0.8659\n",
            "Epoch 89/100\n",
            "250/250 [==============================] - 0s 965us/step - loss: 0.3333 - accuracy: 0.8648\n",
            "Epoch 90/100\n",
            "250/250 [==============================] - 0s 1ms/step - loss: 0.3332 - accuracy: 0.8645\n",
            "Epoch 91/100\n",
            "250/250 [==============================] - 0s 1ms/step - loss: 0.3329 - accuracy: 0.8645\n",
            "Epoch 92/100\n",
            "250/250 [==============================] - 0s 1ms/step - loss: 0.3333 - accuracy: 0.8650\n",
            "Epoch 93/100\n",
            "250/250 [==============================] - 0s 900us/step - loss: 0.3332 - accuracy: 0.8650\n",
            "Epoch 94/100\n",
            "250/250 [==============================] - 0s 1ms/step - loss: 0.3330 - accuracy: 0.8641\n",
            "Epoch 95/100\n",
            "250/250 [==============================] - 0s 2ms/step - loss: 0.3332 - accuracy: 0.8651\n",
            "Epoch 96/100\n",
            "250/250 [==============================] - 0s 1ms/step - loss: 0.3334 - accuracy: 0.8637\n",
            "Epoch 97/100\n",
            "250/250 [==============================] - 1s 2ms/step - loss: 0.3330 - accuracy: 0.8648\n",
            "Epoch 98/100\n",
            "250/250 [==============================] - 1s 3ms/step - loss: 0.3329 - accuracy: 0.8646\n",
            "Epoch 99/100\n",
            "250/250 [==============================] - 0s 2ms/step - loss: 0.3330 - accuracy: 0.8645\n",
            "Epoch 100/100\n",
            "250/250 [==============================] - 0s 2ms/step - loss: 0.3327 - accuracy: 0.8645\n"
          ]
        },
        {
          "output_type": "execute_result",
          "data": {
            "text/plain": [
              "<keras.callbacks.History at 0x7f9554867df0>"
            ]
          },
          "metadata": {},
          "execution_count": 53
        }
      ],
      "metadata": {}
    },
    {
      "cell_type": "markdown",
      "source": [
        "## Part 4 - Making the predictions and evaluating the model"
      ],
      "metadata": {
        "id": "tJj5k2MxZga3",
        "colab_type": "text"
      }
    },
    {
      "cell_type": "markdown",
      "source": [
        "### Predicting the result of a single observation"
      ],
      "metadata": {
        "id": "84QFoqGYeXHL",
        "colab_type": "text"
      }
    },
    {
      "cell_type": "markdown",
      "source": [
        "**Homework**\n",
        "\n",
        "Use our ANN model to predict if the customer with the following informations will leave the bank: \n",
        "\n",
        "Geography: France\n",
        "\n",
        "Credit Score: 600\n",
        "\n",
        "Gender: Male\n",
        "\n",
        "Age: 40 years old\n",
        "\n",
        "Tenure: 3 years\n",
        "\n",
        "Balance: \\$ 60000\n",
        "\n",
        "Number of Products: 2\n",
        "\n",
        "Does this customer have a credit card ? Yes\n",
        "\n",
        "Is this customer an Active Member: Yes\n",
        "\n",
        "Estimated Salary: \\$ 50000\n",
        "\n",
        "So, should we say goodbye to that customer ?"
      ],
      "metadata": {
        "id": "CGRo3eacgDdC",
        "colab_type": "text"
      }
    },
    {
      "cell_type": "markdown",
      "source": [
        "**Solution**"
      ],
      "metadata": {
        "id": "ZhU1LTgPg-kH",
        "colab_type": "text"
      }
    },
    {
      "cell_type": "code",
      "execution_count": 55,
      "source": [
        "print(ann.predict(sc.transform([[1, 0 , 0, 600, 1, 40, 3, 60000, 2, 1, 1 , 50000]]))> 0.5)"
      ],
      "outputs": [
        {
          "output_type": "stream",
          "name": "stdout",
          "text": [
            "[[False]]\n"
          ]
        }
      ],
      "metadata": {}
    },
    {
      "cell_type": "markdown",
      "source": [
        "Therefore, our ANN model predicts that this customer stays in the bank!\n",
        "\n",
        "**Important note 1:** Notice that the values of the features were all input in a double pair of square brackets. That's because the \"predict\" method always expects a 2D array as the format of its inputs. And putting our values into a double pair of square brackets makes the input exactly a 2D array.\n",
        "\n",
        "**Important note 2:** Notice also that the \"France\" country was not input as a string in the last column but as \"1, 0, 0\" in the first three columns. That's because of course the predict method expects the one-hot-encoded values of the state, and as we see in the first row of the matrix of features X, \"France\" was encoded as \"1, 0, 0\". And be careful to include these values in the first three columns, because the dummy variables are always created in the first columns."
      ],
      "metadata": {
        "id": "wGjx94g2n7OV",
        "colab_type": "text"
      }
    },
    {
      "cell_type": "markdown",
      "source": [
        "### Predicting the Test set results"
      ],
      "metadata": {
        "id": "u7yx47jPZt11",
        "colab_type": "text"
      }
    },
    {
      "cell_type": "code",
      "execution_count": 56,
      "source": [
        "y_pred = ann.predict(X_test)\n",
        "y_pred = (y_pred > 0.5)\n",
        "print(np.concatenate((y_pred.reshape(len(y_pred), 1), y_test.reshape(len(y_test), 1)),1))\n"
      ],
      "outputs": [
        {
          "output_type": "stream",
          "name": "stdout",
          "text": [
            "[[0 0]\n",
            " [0 0]\n",
            " [0 0]\n",
            " ...\n",
            " [0 0]\n",
            " [0 0]\n",
            " [1 0]]\n"
          ]
        }
      ],
      "metadata": {}
    },
    {
      "cell_type": "markdown",
      "source": [
        "### Making the Confusion Matrix"
      ],
      "metadata": {
        "id": "o0oyfLWoaEGw",
        "colab_type": "text"
      }
    },
    {
      "cell_type": "code",
      "execution_count": 57,
      "source": [
        "from sklearn.metrics import confusion_matrix, accuracy_score\n",
        "cm = confusion_matrix(y_test, y_pred)\n",
        "print(cm)\n",
        "\n",
        "accuracy_score(y_test, y_pred)"
      ],
      "outputs": [
        {
          "output_type": "stream",
          "name": "stdout",
          "text": [
            "[[1530   55]\n",
            " [ 215  200]]\n"
          ]
        },
        {
          "output_type": "execute_result",
          "data": {
            "text/plain": [
              "0.865"
            ]
          },
          "metadata": {},
          "execution_count": 57
        }
      ],
      "metadata": {}
    }
  ]
}